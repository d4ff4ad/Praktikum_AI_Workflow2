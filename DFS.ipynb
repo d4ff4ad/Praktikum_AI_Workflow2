{
 "cells": [
  {
   "cell_type": "code",
   "execution_count": 2,
   "metadata": {},
   "outputs": [
    {
     "name": "stdout",
     "output_type": "stream",
     "text": [
      "Berikut adalah Penelusuran Depth First (dimulai dari node 2)\n",
      "2 0 1 3 "
     ]
    }
   ],
   "source": [
    "# Python3 program to print DFS traversal\n",
    "# from a given graph\n",
    "from collections import defaultdict\n",
    "\n",
    "# Kelas ini merepresentasikan sebuah graf yang diarahakan\n",
    "# menggunakan representasi daftar kejadian\n",
    "class Graph:\n",
    "\n",
    "    # Konstruktor\n",
    "    def __init__(self):\n",
    "        # Kamus default untuk menyimpan graf\n",
    "        self.graph = defaultdict(list)\n",
    "\n",
    "    # Fungsi untuk menambahkan tepi ke graf\n",
    "    def addEdge(self, u, v):\n",
    "        self.graph[u].append(v)\n",
    "\n",
    "    # Fungsi yang digunakan oleh DFS\n",
    "    def DFSUtil(self, v, visited):\n",
    "        # Tandai node saat ini sebagai sudah dikunjungi\n",
    "        # dan cetak\n",
    "        visited.add(v)\n",
    "        print(v, end=' ')\n",
    "\n",
    "        # Panggil rekursif untuk semua titik ujung\n",
    "        # yang berdekatan dengan titik ini\n",
    "        for neighbour in self.graph[v]:\n",
    "            if neighbour not in visited:\n",
    "                self.DFSUtil(neighbour, visited)\n",
    "\n",
    "    # Fungsi untuk melakukan penelusuran DFS. Ini menggunakan\n",
    "    # DFSUtil() rekursif\n",
    "    def DFS(self, v):\n",
    "        # Buat himpunan untuk menyimpan node yang sudah dikunjungi\n",
    "        visited = set()\n",
    "\n",
    "        # Panggil fungsi bantu rekursif\n",
    "        # untuk mencetak penelusuran DFS\n",
    "        self.DFSUtil(v, visited)\n",
    "\n",
    "# Kode pengguna\n",
    "if __name__ == \"__main__\":\n",
    "    g = Graph()\n",
    "    g.addEdge(0, 1)\n",
    "    g.addEdge(0, 2)\n",
    "    g.addEdge(1, 2)\n",
    "    g.addEdge(2, 0)\n",
    "    g.addEdge(2, 3)\n",
    "    g.addEdge(3, 3)\n",
    "\n",
    "    print(\"Berikut adalah Penelusuran Depth First (dimulai dari node 2)\")\n",
    "\n",
    "    # Panggilan fungsi\n",
    "    g.DFS(2)\n"
   ]
  }
 ],
 "metadata": {
  "kernelspec": {
   "display_name": "Python 3",
   "language": "python",
   "name": "python3"
  },
  "language_info": {
   "codemirror_mode": {
    "name": "ipython",
    "version": 3
   },
   "file_extension": ".py",
   "mimetype": "text/x-python",
   "name": "python",
   "nbconvert_exporter": "python",
   "pygments_lexer": "ipython3",
   "version": "3.10.11"
  }
 },
 "nbformat": 4,
 "nbformat_minor": 2
}
